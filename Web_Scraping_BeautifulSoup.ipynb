{
 "cells": [
  {
   "cell_type": "markdown",
   "metadata": {},
   "source": [
    "Web Scraping\n",
    "Rubric Task :Scrape data from a website using Beautiful Soup and/or Scrapy."
   ]
  },
  {
   "cell_type": "code",
   "execution_count": 77,
   "metadata": {},
   "outputs": [
    {
     "name": "stdout",
     "output_type": "stream",
     "text": [
      "Requirement already satisfied: beautifulsoup4 in c:\\users\\anami\\anaconda3\\lib\\site-packages (4.8.2)\n",
      "Requirement already satisfied: soupsieve>=1.2 in c:\\users\\anami\\anaconda3\\lib\\site-packages (from beautifulsoup4) (1.9.5)\n",
      "Note: you may need to restart the kernel to use updated packages.\n"
     ]
    }
   ],
   "source": [
    "pip install beautifulsoup4"
   ]
  },
  {
   "cell_type": "code",
   "execution_count": 78,
   "metadata": {},
   "outputs": [
    {
     "name": "stdout",
     "output_type": "stream",
     "text": [
      "Requirement already satisfied: lxml in c:\\users\\anami\\anaconda3\\lib\\site-packages (4.5.0)\n",
      "Note: you may need to restart the kernel to use updated packages.\n"
     ]
    }
   ],
   "source": [
    "pip install lxml"
   ]
  },
  {
   "cell_type": "code",
   "execution_count": 79,
   "metadata": {},
   "outputs": [
    {
     "name": "stdout",
     "output_type": "stream",
     "text": [
      "Requirement already satisfied: html5lib in c:\\users\\anami\\anaconda3\\lib\\site-packages (1.0.1)\n",
      "Requirement already satisfied: webencodings in c:\\users\\anami\\anaconda3\\lib\\site-packages (from html5lib) (0.5.1)\n",
      "Requirement already satisfied: six>=1.9 in c:\\users\\anami\\anaconda3\\lib\\site-packages (from html5lib) (1.14.0)\n",
      "Note: you may need to restart the kernel to use updated packages.\n"
     ]
    }
   ],
   "source": [
    "pip install html5lib"
   ]
  },
  {
   "cell_type": "code",
   "execution_count": 81,
   "metadata": {},
   "outputs": [
    {
     "name": "stdout",
     "output_type": "stream",
     "text": [
      "<!DOCTYPE html>\n",
      "\n",
      "<html>\n",
      "<head>\n",
      "    \n",
      "    <title>PyLadies &ndash; Women Who Love Coding in Python</title>\n",
      "    <meta charset=\"UTF-8\">\n",
      "    <meta name=\"viewport\" content=\"width=device-width, initial-scale=\n"
     ]
    }
   ],
   "source": [
    "#Libraries\n",
    "import requests\n",
    "from bs4 import BeautifulSoup\n",
    "#Assign the address of the web page to a variable\n",
    "\n",
    "url ='http://www.pyladies.com'\n",
    "#Use \"get\" method to get the webpage content and store it in a response variable\n",
    "response = get(url)\n",
    "print(response.text[:200])\n",
    "\n"
   ]
  },
  {
   "cell_type": "code",
   "execution_count": 82,
   "metadata": {},
   "outputs": [],
   "source": [
    "# Create a BeautifulSoup object\n",
    "soup = BeautifulSoup(page.text, 'html.parser')"
   ]
  },
  {
   "cell_type": "code",
   "execution_count": 83,
   "metadata": {},
   "outputs": [
    {
     "data": {
      "text/plain": [
       "<title>PyLadies – Women Who Love Coding in Python</title>"
      ]
     },
     "execution_count": 83,
     "metadata": {},
     "output_type": "execute_result"
    }
   ],
   "source": [
    "#Check the title of the webpage\n",
    "soup.title"
   ]
  },
  {
   "cell_type": "code",
   "execution_count": 93,
   "metadata": {},
   "outputs": [
    {
     "data": {
      "text/plain": [
       "[<div class=\"header\">\n",
       " <div id=\"pyladies_header_logo\">\n",
       " <a href=\"/\"><img alt=\"PyLadies Logo\" height=\"120\" src=\"/assets/images/pyladies_logo.png\" width=\"260\"/></a>\n",
       " </div>\n",
       " <nav>\n",
       " <ul class=\"nav-wrapper\">\n",
       " <li><a href=\"/\">Home</a></li>\n",
       " <li><a href=\"/about/\">About</a></li>\n",
       " <li><a href=\"https://discuss.pyladies.com\">Forum</a></li>\n",
       " <li><a href=\"/locations/\">Locations</a></li>\n",
       " <li><a href=\"https://blog.pyladies.com\">Blog</a></li>\n",
       " <li><a href=\"/CodeOfConduct/\">Code of Conduct</a></li>\n",
       " <li><a href=\"/resources/\">Resources</a></li>\n",
       " <li><a href=\"https://github.com/pyladies/info/\" id=\"contact-link\">Contact</a></li>\n",
       " <li><a href=\"http://pyladies.com/feed.xml\" title=\"RSS\">RSS</a></li>\n",
       " </ul>\n",
       " </nav>\n",
       " </div>]"
      ]
     },
     "execution_count": 93,
     "metadata": {},
     "output_type": "execute_result"
    }
   ],
   "source": [
    "#Returns all the divisions on the page and display the top 1\n",
    "divisions = soup.find_all('div')\n",
    "divisions[:1]"
   ]
  },
  {
   "cell_type": "code",
   "execution_count": 130,
   "metadata": {},
   "outputs": [
    {
     "data": {
      "text/plain": [
       "<div id=\"welcome_message\">\n",
       "<h2>Welcome!</h2>\n",
       "<img alt=\"Pyladies lady graphic\" src=\"/assets/images/pylady_geek.png\"/>\n",
       "<p>We are an international mentorship group with a focus on helping more women become active participants and leaders in the Python open-source community. Our mission is to promote, educate and advance a diverse Python community through outreach, education, conferences, events and social gatherings.</p>\n",
       "<p>PyLadies also aims to provide a friendly support network for women and a bridge to the larger Python world. Anyone with an interest in Python is encouraged to participate!</p>\n",
       "</div>"
      ]
     },
     "execution_count": 130,
     "metadata": {},
     "output_type": "execute_result"
    }
   ],
   "source": [
    "# find the a division with an id field\n",
    "soup.find('div', id='welcome_message')"
   ]
  },
  {
   "cell_type": "code",
   "execution_count": 102,
   "metadata": {},
   "outputs": [
    {
     "name": "stdout",
     "output_type": "stream",
     "text": [
      "<h1 id=\"homepage_h1\">Welcome!</h1>\n",
      "<h2>Welcome!</h2>\n",
      "<h3 class=\"latest-master\">Latest Blog Posts</h3>\n"
     ]
    }
   ],
   "source": [
    "# finds the header elements\n",
    "print(soup.h1)\n",
    "print(soup.h2)\n",
    "print(soup.h3)\n"
   ]
  },
  {
   "cell_type": "code",
   "execution_count": 111,
   "metadata": {},
   "outputs": [
    {
     "data": {
      "text/plain": [
       "[<a class=\"github-corner\" href=\"https://github.com/pyladies/pyladies\"><svg height=\"80\" style=\"fill:rgb(255, 100, 100); color:#fff; position: absolute; top: 0; border: 0; left: 0; transform: scale(-1, 1);\" viewbox=\"0 0 250 250\" width=\"80\"><path d=\"M0,0 L115,115 L130,115 L142,142 L250,250 L250,0 Z\"></path><path class=\"octo-arm\" d=\"M128.3,109.0 C113.8,99.7 119.0,89.6 119.0,89.6 C122.0,82.7 120.5,78.6 120.5,78.6 C119.2,72.0 123.4,76.3 123.4,76.3 C127.3,80.9 125.5,87.3 125.5,87.3 C122.9,97.6 130.6,101.9 134.4,103.2\" fill=\"currentColor\" style=\"transform-origin: 130px 106px;\"></path><path class=\"octo-body\" d=\"M115.0,115.0 C114.9,115.1 118.7,116.5 119.8,115.4 L133.7,101.6 C136.9,99.2 139.9,98.4 142.2,98.6 C133.8,88.0 127.5,74.4 143.8,58.0 C148.5,53.4 154.0,51.2 159.7,51.0 C160.3,49.4 163.2,43.6 171.4,40.1 C171.4,40.1 176.1,42.5 178.8,56.2 C183.1,58.6 187.2,61.8 190.9,65.4 C194.5,69.0 197.7,73.2 200.1,77.6 C213.8,80.2 216.3,84.9 216.3,84.9 C212.7,93.1 206.9,96.0 205.4,96.6 C205.1,102.4 203.0,107.8 198.3,112.5 C181.9,128.9 168.3,122.5 157.7,114.1 C157.9,116.9 156.7,120.9 152.7,124.9 L141.0,136.5 C139.8,137.7 141.6,141.9 141.8,141.8 Z\" fill=\"currentColor\"></path></svg></a>,\n",
       " <a href=\"/\"><img alt=\"PyLadies Logo\" height=\"120\" src=\"/assets/images/pyladies_logo.png\" width=\"260\"/></a>,\n",
       " <a href=\"/\">Home</a>,\n",
       " <a href=\"/about/\">About</a>,\n",
       " <a href=\"https://discuss.pyladies.com\">Forum</a>,\n",
       " <a href=\"/locations/\">Locations</a>,\n",
       " <a href=\"https://blog.pyladies.com\">Blog</a>,\n",
       " <a href=\"/CodeOfConduct/\">Code of Conduct</a>,\n",
       " <a href=\"/resources/\">Resources</a>,\n",
       " <a href=\"https://github.com/pyladies/info/\" id=\"contact-link\">Contact</a>,\n",
       " <a href=\"http://pyladies.com/feed.xml\" title=\"RSS\">RSS</a>,\n",
       " <a href=\"/blog/Announcement-for-Registering-PyLadies-Members/announcement-for-registering-pyladies-members/\">Announcement for Registering PyLadies Members</a>,\n",
       " <a class=\"more-link\" href=\"/blog/Announcement-for-Registering-PyLadies-Members/announcement-for-registering-pyladies-members/\">Read more →</a>,\n",
       " <a href=\"/blog/PyLadies-Global-Council-Selection-Process-Voting-Now-Open/pyladies-global-council-process-vote/\">PyLadies Global Council Selection Process Voting Now Open!</a>,\n",
       " <a class=\"more-link\" href=\"/blog/PyLadies-Global-Council-Selection-Process-Voting-Now-Open/pyladies-global-council-process-vote/\">Read more →</a>,\n",
       " <a href=\"/sponsor/\">Sponsor Us</a>,\n",
       " <a href=\"https://pyladies.spreadshirt.com/\">Get Swag</a>,\n",
       " <a class=\"twitter-timeline\" data-widget-id=\"635861904234258433\" height=\"400\" href=\"https://twitter.com/pyladies/lists/pyladies-locations\" width=\"400\">Tweets from https://twitter.com/pyladies/lists/pyladies-locations</a>,\n",
       " <a class=\"icon google-plus\" data-icon=\"\" href=\"https://plus.google.com/communities/108807002736066163985\" title=\"Google+\"></a>,\n",
       " <a class=\"icon github\" data-icon=\"\" href=\"https://github.com/pyladies\" title=\"GitHub\"></a>,\n",
       " <a class=\"icon rss\" data-icon=\"\" href=\"http://pyladies.com/feed.xml\" title=\"RSS\"></a>,\n",
       " <a class=\"icon creative-commons\" data-icon=\"🕅\" href=\"https://creativecommons.org/licenses/by-sa/3.0/\" title=\"Creative Commons\"></a>]"
      ]
     },
     "execution_count": 111,
     "metadata": {},
     "output_type": "execute_result"
    }
   ],
   "source": [
    "#Find all the elements under<a> tag\n",
    "soup.find_all('a')"
   ]
  },
  {
   "cell_type": "code",
   "execution_count": 134,
   "metadata": {},
   "outputs": [
    {
     "data": {
      "text/plain": [
       "<p>We are an international mentorship group with a focus on helping more women become active participants and leaders in the Python open-source community. Our mission is to promote, educate and advance a diverse Python community through outreach, education, conferences, events and social gatherings.</p>"
      ]
     },
     "execution_count": 134,
     "metadata": {},
     "output_type": "execute_result"
    }
   ],
   "source": [
    "#Extract the welcome message from the webpage\n",
    "soup.find('p')"
   ]
  },
  {
   "cell_type": "code",
   "execution_count": 172,
   "metadata": {},
   "outputs": [
    {
     "data": {
      "text/plain": [
       "[<a href=\"https://blog.pyladies.com\">Blog</a>]"
      ]
     },
     "execution_count": 172,
     "metadata": {},
     "output_type": "execute_result"
    }
   ],
   "source": [
    "#Extract the blog urls from the webpage\n",
    "blog_links = lambda tag: (getattr(tag, 'name', None) == 'a' and\n",
    "                           'href' in tag.attrs and\n",
    "                           'blog' in tag.get_text().lower())\n",
    "results = soup.find_all(blog_links)\n",
    "results"
   ]
  },
  {
   "cell_type": "code",
   "execution_count": 133,
   "metadata": {},
   "outputs": [
    {
     "data": {
      "text/plain": [
       "[<li><a href=\"/\">Home</a></li>,\n",
       " <li><a href=\"/about/\">About</a></li>,\n",
       " <li><a href=\"https://discuss.pyladies.com\">Forum</a></li>,\n",
       " <li><a href=\"/locations/\">Locations</a></li>,\n",
       " <li><a href=\"https://blog.pyladies.com\">Blog</a></li>,\n",
       " <li><a href=\"/CodeOfConduct/\">Code of Conduct</a></li>,\n",
       " <li><a href=\"/resources/\">Resources</a></li>,\n",
       " <li><a href=\"https://github.com/pyladies/info/\" id=\"contact-link\">Contact</a></li>,\n",
       " <li><a href=\"http://pyladies.com/feed.xml\" title=\"RSS\">RSS</a></li>,\n",
       " <li><a class=\"icon google-plus\" data-icon=\"\" href=\"https://plus.google.com/communities/108807002736066163985\" title=\"Google+\"></a></li>,\n",
       " <li><a class=\"icon github\" data-icon=\"\" href=\"https://github.com/pyladies\" title=\"GitHub\"></a></li>,\n",
       " <li><a class=\"icon rss\" data-icon=\"\" href=\"http://pyladies.com/feed.xml\" title=\"RSS\"></a></li>,\n",
       " <li><a class=\"icon creative-commons\" data-icon=\"🕅\" href=\"https://creativecommons.org/licenses/by-sa/3.0/\" title=\"Creative Commons\"></a></li>,\n",
       " <li>2007 - 2020 PyLadies. All Rights Reserved.</li>,\n",
       " <li>Disclaimer - PyLadies and the PyLadies logo are trademarks of the Python Software Foundation</li>]"
      ]
     },
     "execution_count": 133,
     "metadata": {},
     "output_type": "execute_result"
    }
   ],
   "source": [
    "#extract all the lis from the webpage\n",
    "soup.find_all('li')"
   ]
  },
  {
   "cell_type": "code",
   "execution_count": 129,
   "metadata": {},
   "outputs": [
    {
     "name": "stdout",
     "output_type": "stream",
     "text": [
      "\n",
      "\n",
      "Home\n",
      "About\n",
      "Forum\n",
      "Locations\n",
      "Blog\n",
      "Code of Conduct\n",
      "Resources\n",
      "Contact\n",
      "RSS\n",
      "Announcement for Registering PyLadies Members\n",
      "Read more →\n",
      "PyLadies Global Council Selection Process Voting Now Open!\n",
      "Read more →\n",
      "Sponsor Us\n",
      "Get Swag\n",
      "Tweets from https://twitter.com/pyladies/lists/pyladies-locations\n",
      "\n",
      "\n",
      "\n",
      "\n"
     ]
    }
   ],
   "source": [
    "#Load the content of the webpage with <a> tag in a dataset a_tags\n",
    "a_tags = soup.find_all('a')\n",
    "\n",
    "#Print the content inside every tag using for loop\n",
    "for link in a_tags:\n",
    "    print(link.get_text())\n",
    "    "
   ]
  },
  {
   "cell_type": "code",
   "execution_count": 131,
   "metadata": {},
   "outputs": [
    {
     "name": "stdout",
     "output_type": "stream",
     "text": [
      "https://github.com/pyladies/pyladies\n",
      "/\n",
      "/\n",
      "/about/\n",
      "https://discuss.pyladies.com\n",
      "/locations/\n",
      "https://blog.pyladies.com\n",
      "/CodeOfConduct/\n",
      "/resources/\n",
      "https://github.com/pyladies/info/\n",
      "http://pyladies.com/feed.xml\n",
      "/blog/Announcement-for-Registering-PyLadies-Members/announcement-for-registering-pyladies-members/\n",
      "/blog/Announcement-for-Registering-PyLadies-Members/announcement-for-registering-pyladies-members/\n",
      "/blog/PyLadies-Global-Council-Selection-Process-Voting-Now-Open/pyladies-global-council-process-vote/\n",
      "/blog/PyLadies-Global-Council-Selection-Process-Voting-Now-Open/pyladies-global-council-process-vote/\n",
      "/sponsor/\n",
      "https://pyladies.spreadshirt.com/\n",
      "https://twitter.com/pyladies/lists/pyladies-locations\n",
      "https://plus.google.com/communities/108807002736066163985\n",
      "https://github.com/pyladies\n",
      "http://pyladies.com/feed.xml\n",
      "https://creativecommons.org/licenses/by-sa/3.0/\n"
     ]
    }
   ],
   "source": [
    "#Print the urls inside the <a> tags\n",
    "for link in a_tags:\n",
    "    print(link.get('href'))"
   ]
  },
  {
   "cell_type": "code",
   "execution_count": null,
   "metadata": {},
   "outputs": [],
   "source": []
  },
  {
   "cell_type": "code",
   "execution_count": null,
   "metadata": {},
   "outputs": [],
   "source": []
  }
 ],
 "metadata": {
  "kernelspec": {
   "display_name": "Python 3",
   "language": "python",
   "name": "python3"
  },
  "language_info": {
   "codemirror_mode": {
    "name": "ipython",
    "version": 3
   },
   "file_extension": ".py",
   "mimetype": "text/x-python",
   "name": "python",
   "nbconvert_exporter": "python",
   "pygments_lexer": "ipython3",
   "version": "3.7.6"
  }
 },
 "nbformat": 4,
 "nbformat_minor": 4
}
